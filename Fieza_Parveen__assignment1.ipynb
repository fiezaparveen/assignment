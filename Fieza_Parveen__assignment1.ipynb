{
  "nbformat": 4,
  "nbformat_minor": 0,
  "metadata": {
    "colab": {
      "provenance": [],
      "authorship_tag": "ABX9TyNqm7Ql6s09W6bPQrfKZTq3",
      "include_colab_link": true
    },
    "kernelspec": {
      "name": "python3",
      "display_name": "Python 3"
    },
    "language_info": {
      "name": "python"
    }
  },
  "cells": [
    {
      "cell_type": "markdown",
      "metadata": {
        "id": "view-in-github",
        "colab_type": "text"
      },
      "source": [
        "<a href=\"https://colab.research.google.com/github/fiezaparveen/assignment/blob/main/Fieza_Parveen__assignment1.ipynb\" target=\"_parent\"><img src=\"https://colab.research.google.com/assets/colab-badge.svg\" alt=\"Open In Colab\"/></a>"
      ]
    },
    {
      "cell_type": "code",
      "execution_count": 7,
      "metadata": {
        "colab": {
          "base_uri": "https://localhost:8080/"
        },
        "id": "kOZwAoleTYTK",
        "outputId": "cee72c33-621f-41f9-b884-74e108ed5ef4"
      },
      "outputs": [
        {
          "output_type": "stream",
          "name": "stdout",
          "text": [
            "Escherichia coliK-12 substr. MG1655\n",
            "number of base pairs is 4641652\n",
            "base composition is\n",
            "A:24.7\n",
            "T:23.6\n",
            "G:26.0\n",
            "C:25.7\n",
            "ratio of A/T is: 1.0466101694915253\n",
            "ratio of G/C is : 1.0116731517509727\n",
            "('Escherichia coliK-12 substr. MG1655', 1.0466101694915253, 1.0116731517509727)\n",
            "reversed sequence is  CTTAAG\n",
            "you have 20000 genes\n",
            "protein name stands for green fluorescent protein\n"
          ]
        }
      ],
      "source": [
        "Name=\"Escherichia coli\"\n",
        "Strain=\"K-12 substr. MG1655\"\n",
        "Cat=Name+Strain\n",
        "print(Cat)\n",
        "base_pair=4641652\n",
        "print(\"number of base pairs is\",base_pair)\n",
        "base_composition={\"A\":\"24.7\",\"T\":\"23.6\",\"G\":\"26.0\",\"C\":\"25.7\"}\n",
        "print(\"base composition is\")\n",
        "for key,value in base_composition.items():\n",
        " print(key+\":\"+value)\n",
        "ratio_AT=24.7/23.6\n",
        "ratio_GC=26.0/25.7\n",
        "print(\"ratio of A/T is:\",ratio_AT)\n",
        "print(\"ratio of G/C is :\",ratio_GC)\n",
        "organism=(Cat,ratio_AT,ratio_GC)\n",
        "print(organism)\n",
        "#question2\n",
        "sequence = \"GAATTC\"\n",
        "reverse_sequence = sequence[::-1]\n",
        "print(\"reversed sequence is \",reverse_sequence)\n",
        "#question3\n",
        "#human gene=20,000\n",
        "#error- variables cannot have space\n",
        "#solution\n",
        "human_gene=20000\n",
        "\n",
        "#protein-name=\"GFP'\n",
        "#ERROR variable name cannot have hyphen and should end with \" and no semicolon at the end\n",
        "#solution\n",
        "protein_name=\"GFP\"\n",
        "print('you have',human_gene,'genes')\n",
        "print('protein name stands for green fluorescent protein')"
      ]
    }
  ]
}